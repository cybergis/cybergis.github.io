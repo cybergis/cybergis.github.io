{
 "cells": [
  {
   "cell_type": "code",
   "execution_count": 14,
   "metadata": {
    "pycharm": {
     "is_executing": false
    }
   },
   "outputs": [],
   "source": [
    "import geopandas as gpd\n",
    "import numpy as np"
   ]
  },
  {
   "cell_type": "code",
   "execution_count": 3,
   "metadata": {
    "pycharm": {
     "name": "#%%\n"
    }
   },
   "outputs": [
    {
     "data": {
      "text/html": [
       "<div>\n",
       "<style scoped>\n",
       "    .dataframe tbody tr th:only-of-type {\n",
       "        vertical-align: middle;\n",
       "    }\n",
       "\n",
       "    .dataframe tbody tr th {\n",
       "        vertical-align: top;\n",
       "    }\n",
       "\n",
       "    .dataframe thead th {\n",
       "        text-align: right;\n",
       "    }\n",
       "</style>\n",
       "<table border=\"1\" class=\"dataframe\">\n",
       "  <thead>\n",
       "    <tr style=\"text-align: right;\">\n",
       "      <th></th>\n",
       "      <th>ID</th>\n",
       "      <th>age</th>\n",
       "      <th>Sex</th>\n",
       "      <th>Latitude</th>\n",
       "      <th>Longitude</th>\n",
       "      <th>Lab_Report_Date</th>\n",
       "      <th>Test_Result</th>\n",
       "      <th>Race</th>\n",
       "      <th>Ethnicity</th>\n",
       "      <th>Deceased</th>\n",
       "      <th>FID</th>\n",
       "      <th>geometry</th>\n",
       "    </tr>\n",
       "  </thead>\n",
       "  <tbody>\n",
       "    <tr>\n",
       "      <th>0</th>\n",
       "      <td>1</td>\n",
       "      <td>41</td>\n",
       "      <td>1</td>\n",
       "      <td>41.7068448</td>\n",
       "      <td>-87.65708054</td>\n",
       "      <td>Tue, 24 Mar 2020 00:00:00 GMT</td>\n",
       "      <td>Positive</td>\n",
       "      <td>White</td>\n",
       "      <td>Not Hispanic or not Latino</td>\n",
       "      <td>Yes</td>\n",
       "      <td>1</td>\n",
       "      <td>POINT (-87.65708 41.70684)</td>\n",
       "    </tr>\n",
       "    <tr>\n",
       "      <th>1</th>\n",
       "      <td>2</td>\n",
       "      <td>75</td>\n",
       "      <td>1</td>\n",
       "      <td>41.935298</td>\n",
       "      <td>-87.63922025</td>\n",
       "      <td>Tue, 24 Mar 2020 00:00:00 GMT</td>\n",
       "      <td>Negative</td>\n",
       "      <td>Hispanic</td>\n",
       "      <td>Hispanic or Latino</td>\n",
       "      <td>NULL</td>\n",
       "      <td>2</td>\n",
       "      <td>POINT (-87.63922 41.93530)</td>\n",
       "    </tr>\n",
       "    <tr>\n",
       "      <th>2</th>\n",
       "      <td>3</td>\n",
       "      <td>5</td>\n",
       "      <td>2</td>\n",
       "      <td>41.98555883</td>\n",
       "      <td>-87.69201674</td>\n",
       "      <td>Tue, 24 Mar 2020 00:00:00 GMT</td>\n",
       "      <td>Negative</td>\n",
       "      <td>Unknown</td>\n",
       "      <td>NULL</td>\n",
       "      <td>NULL</td>\n",
       "      <td>3</td>\n",
       "      <td>POINT (-87.69202 41.98556)</td>\n",
       "    </tr>\n",
       "    <tr>\n",
       "      <th>3</th>\n",
       "      <td>5</td>\n",
       "      <td>65</td>\n",
       "      <td>2</td>\n",
       "      <td>42.07728149</td>\n",
       "      <td>-88.16177047</td>\n",
       "      <td>Wed, 18 Mar 2020 00:00:00 GMT</td>\n",
       "      <td>Negative</td>\n",
       "      <td>Unknown</td>\n",
       "      <td>NULL</td>\n",
       "      <td>NULL</td>\n",
       "      <td>4</td>\n",
       "      <td>POINT (-88.16177 42.07728)</td>\n",
       "    </tr>\n",
       "    <tr>\n",
       "      <th>4</th>\n",
       "      <td>6</td>\n",
       "      <td>85</td>\n",
       "      <td>1</td>\n",
       "      <td>42.38465575</td>\n",
       "      <td>-87.83514951</td>\n",
       "      <td>Sat, 21 Mar 2020 00:00:00 GMT</td>\n",
       "      <td>Negative</td>\n",
       "      <td>White</td>\n",
       "      <td>NULL</td>\n",
       "      <td>NULL</td>\n",
       "      <td>5</td>\n",
       "      <td>POINT (-87.83515 42.38466)</td>\n",
       "    </tr>\n",
       "  </tbody>\n",
       "</table>\n",
       "</div>"
      ],
      "text/plain": [
       "   ID  age  Sex     Latitude     Longitude                Lab_Report_Date  \\\n",
       "0   1   41    1   41.7068448  -87.65708054  Tue, 24 Mar 2020 00:00:00 GMT   \n",
       "1   2   75    1    41.935298  -87.63922025  Tue, 24 Mar 2020 00:00:00 GMT   \n",
       "2   3    5    2  41.98555883  -87.69201674  Tue, 24 Mar 2020 00:00:00 GMT   \n",
       "3   5   65    2  42.07728149  -88.16177047  Wed, 18 Mar 2020 00:00:00 GMT   \n",
       "4   6   85    1  42.38465575  -87.83514951  Sat, 21 Mar 2020 00:00:00 GMT   \n",
       "\n",
       "  Test_Result      Race                   Ethnicity Deceased  FID  \\\n",
       "0    Positive     White  Not Hispanic or not Latino      Yes    1   \n",
       "1    Negative  Hispanic          Hispanic or Latino     NULL    2   \n",
       "2    Negative   Unknown                        NULL     NULL    3   \n",
       "3    Negative   Unknown                        NULL     NULL    4   \n",
       "4    Negative     White                        NULL     NULL    5   \n",
       "\n",
       "                     geometry  \n",
       "0  POINT (-87.65708 41.70684)  \n",
       "1  POINT (-87.63922 41.93530)  \n",
       "2  POINT (-87.69202 41.98556)  \n",
       "3  POINT (-88.16177 42.07728)  \n",
       "4  POINT (-87.83515 42.38466)  "
      ]
     },
     "execution_count": 3,
     "metadata": {},
     "output_type": "execute_result"
    }
   ],
   "source": [
    "old_testing_gdf = gpd.read_file(\"illinois_testing.geojson\")\n",
    "old_testing_gdf.head(5)"
   ]
  },
  {
   "cell_type": "code",
   "execution_count": 38,
   "metadata": {},
   "outputs": [
    {
     "data": {
      "text/plain": [
       "ID                                               91\n",
       "age                                              39\n",
       "Sex                                               1\n",
       "Latitude                                41.76403182\n",
       "Longitude                              -87.65416059\n",
       "Lab_Report_Date       Wed, 25 Mar 2020 00:00:00 GMT\n",
       "Test_Result                                Negative\n",
       "Race                      Black or African American\n",
       "Ethnicity                    Unknown Not Classified\n",
       "Deceased                                       None\n",
       "FID                                              82\n",
       "geometry           POINT (-87.65416059 41.76403182)\n",
       "Name: 81, dtype: object"
      ]
     },
     "execution_count": 38,
     "metadata": {},
     "output_type": "execute_result"
    }
   ],
   "source": [
    "old_testing_gdf.loc[old_testing_gdf[\"Deceased\"] == \"\"]\n",
    "old_testing_gdf.sort_values(by=['Deceased'])\n",
    "old_testing_gdf.iloc[81]"
   ]
  },
  {
   "cell_type": "code",
   "execution_count": null,
   "metadata": {},
   "outputs": [],
   "source": []
  }
 ],
 "metadata": {
  "kernelspec": {
   "display_name": "Python 3",
   "language": "python",
   "name": "python3"
  },
  "language_info": {
   "codemirror_mode": {
    "name": "ipython",
    "version": 3
   },
   "file_extension": ".py",
   "mimetype": "text/x-python",
   "name": "python",
   "nbconvert_exporter": "python",
   "pygments_lexer": "ipython3",
   "version": "3.8.2"
  },
  "pycharm": {
   "stem_cell": {
    "cell_type": "raw",
    "metadata": {
     "collapsed": false
    },
    "source": []
   }
  }
 },
 "nbformat": 4,
 "nbformat_minor": 1
}
